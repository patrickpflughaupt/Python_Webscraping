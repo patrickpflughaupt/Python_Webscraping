{
 "cells": [
  {
   "cell_type": "markdown",
   "metadata": {},
   "source": [
    "<h1 align='center'><strong>Webscrapping HICP and real GDP from European Central Bank</strong></h1>\n",
    "\n",
    "------"
   ]
  },
  {
   "cell_type": "code",
   "execution_count": 1,
   "metadata": {},
   "outputs": [],
   "source": [
    "# Import Libraries\n",
    "from bs4 import BeautifulSoup\n",
    "import requests\n",
    "import pandas as pd\n",
    "import numpy as np\n",
    "import re\n",
    "import regex\n",
    "from IPython.display import Image\n",
    "import matplotlib.pyplot as plt\n",
    "import seaborn as sns\n",
    "\n",
    "try:\n",
    "    # For Python 3.0 and later\n",
    "    from urllib.request import urlopen\n",
    "except ImportError:\n",
    "    # Fall back to Python 2's urllib2\n",
    "    from urllib2 import urlopen\n",
    "    \n",
    "%matplotlib inline    "
   ]
  },
  {
   "cell_type": "code",
   "execution_count": 2,
   "metadata": {},
   "outputs": [],
   "source": [
    "# For black background and saving figures\n",
    "\n",
    "sns.set(style=\"whitegrid\", context='paper')\n",
    "label_size = 30\n",
    "\n",
    "for i in ['text.color','axes.labelcolor','xtick.color','ytick.color','axes.edgecolor']:\n",
    "    plt.rcParams[i] = 'black'\n",
    "    \n",
    "for i in ['xtick.labelsize', 'ytick.labelsize', 'axes.titlesize', 'axes.labelsize']:\n",
    "    plt.rcParams[i] = label_size"
   ]
  },
  {
   "cell_type": "code",
   "execution_count": 3,
   "metadata": {},
   "outputs": [],
   "source": [
    "# Specify the url\n",
    "# Query the website and return the html to the variable ‘page’\n",
    "url = \"https://www.ecb.europa.eu/mopo/strategy/ecana/html/table.en.html\"\n",
    "response = requests.get(url)"
   ]
  },
  {
   "cell_type": "code",
   "execution_count": 4,
   "metadata": {},
   "outputs": [
    {
     "data": {
      "text/plain": [
       "<Response [200]>"
      ]
     },
     "execution_count": 4,
     "metadata": {},
     "output_type": "execute_result"
    }
   ],
   "source": [
    "# If the access was successful, you should see the following output <Response [200]>\n",
    "response"
   ]
  },
  {
   "cell_type": "code",
   "execution_count": 5,
   "metadata": {},
   "outputs": [
    {
     "data": {
      "text/html": [
       "<img src=\"http://jaredbernsteinblog.com/wp-content/uploads/2016/06/imf_growth.png\"/>"
      ],
      "text/plain": [
       "<IPython.core.display.Image object>"
      ]
     },
     "execution_count": 5,
     "metadata": {},
     "output_type": "execute_result"
    }
   ],
   "source": [
    "# IMF World Real GDP Growth Forecast\n",
    "# Inspiration for how I will display the ECB forecast later\n",
    "Image(url=\"http://jaredbernsteinblog.com/wp-content/uploads/2016/06/imf_growth.png\")"
   ]
  },
  {
   "cell_type": "code",
   "execution_count": 6,
   "metadata": {
    "scrolled": true
   },
   "outputs": [],
   "source": [
    "# parse the html using beautiful soup and store in variable `soup`\n",
    "soup = BeautifulSoup(response.text, \"html.parser\")\n",
    "\n",
    "a = []\n",
    "b = []\n",
    "for row in soup.select('tbody tr'):\n",
    "    row_text = [x.get_text().strip() for x in row.find_all('td')] # Starts from March 2019 and goes across row\n",
    "    row_text = ', '.join(row_text) # join together\n",
    "    row_th = [y.get_text().strip() for y in row.find_all('th')] \n",
    "    row_th = ', '.join(row_th)\n",
    "    a.append(row_text)\n",
    "    b.append(row_th)"
   ]
  },
  {
   "cell_type": "code",
   "execution_count": 7,
   "metadata": {},
   "outputs": [],
   "source": [
    "## Dates before 2014 have a different structure on the website\n",
    "\n",
    "numb_list = [i for i in range(len(a[0:42]))] # Relevant data from today until end of 2014\n",
    "years = ['2018','2017','2016','2015','2014'] # Year of released data\n",
    "y=[2021-i for i in range(0,9)] # Forecast years\n",
    "month = ['Dec','Jun','Sep','Mar'] # Forecast months"
   ]
  },
  {
   "cell_type": "code",
   "execution_count": 8,
   "metadata": {
    "scrolled": false
   },
   "outputs": [],
   "source": [
    "hicp=[]\n",
    "real_gdp=[]\n",
    "combined_list=[]\n",
    "\n",
    "for i in range(len(a[0:42])):\n",
    "    x=re.sub(r\"[\\(\\[].*?[\\)\\]]|\\r\\n|\\t\", '', a[i])\n",
    "    x=re.sub(r\"\\s+\", \"\", x, flags=re.UNICODE)\n",
    "    x=x.split(',')\n",
    "    if i < 42: \n",
    "        combined_list.append(x)\n",
    "        if i in numb_list:\n",
    "            if i % 2 == 0: # Even numbers including 0\n",
    "                hicp.append(x)\n",
    "            else: # Uneven numbers\n",
    "                real_gdp.append(x)\n",
    "        else:\n",
    "            break\n",
    "    else:\n",
    "        break"
   ]
  },
  {
   "cell_type": "code",
   "execution_count": 9,
   "metadata": {},
   "outputs": [
    {
     "name": "stdout",
     "output_type": "stream",
     "text": [
      "HICP: 21 \n",
      "Real_GDP: 21\n"
     ]
    }
   ],
   "source": [
    "## Check if both arrays are same length\n",
    "\n",
    "print(f'HICP: {len(hicp)} \\nReal_GDP: {len(real_gdp)}')"
   ]
  },
  {
   "cell_type": "code",
   "execution_count": 10,
   "metadata": {},
   "outputs": [],
   "source": [
    "def your_while_generator(j):\n",
    "    '''\n",
    "    Cannot do a while loop within list comprehension\n",
    "    Define function for later use\n",
    "    '''\n",
    "    i=0\n",
    "    while i<len(j):\n",
    "        yield i\n",
    "        i+=1"
   ]
  },
  {
   "cell_type": "code",
   "execution_count": 11,
   "metadata": {
    "scrolled": true
   },
   "outputs": [],
   "source": [
    "empty_y=[]\n",
    "\n",
    "i=0\n",
    "while i<6:\n",
    "    empty_y.append(y[i]-3)\n",
    "    for j in range(1,4):\n",
    "        x=(y[i]-3)+j\n",
    "        empty_y.append(x)\n",
    "    if i == 0:\n",
    "        pass\n",
    "    elif i == 3:\n",
    "        new=empty_y[-4:]\n",
    "        s=np.tile(new, 2)\n",
    "        s=','.join(map(str, s)).split(\",\")\n",
    "        for word in s:\n",
    "            empty_y.append(word)\n",
    "    else:\n",
    "        new=empty_y[-4:]\n",
    "        s=np.tile(new, 3)\n",
    "        s=','.join(map(str, s)).split(\",\")\n",
    "        for word in s:\n",
    "            empty_y.append(word)    \n",
    "    i+=1   \n",
    "\n",
    "empty_y=list(map(int, empty_y))\n",
    "empty_y=['2018','2019','2020','2021']+empty_y    "
   ]
  },
  {
   "cell_type": "code",
   "execution_count": 12,
   "metadata": {
    "scrolled": true
   },
   "outputs": [],
   "source": [
    "empty_months=[]\n",
    "\n",
    "i=0\n",
    "while i<5:\n",
    "    for j in range(0,4):\n",
    "        s=np.tile(month[j], 4)\n",
    "        s=','.join(map(str, s)).split(\",\")\n",
    "        for word in s:\n",
    "            empty_months.append(word)\n",
    "    i+=1\n",
    "\n",
    "empty_months=['Mar']*4+empty_months"
   ]
  },
  {
   "cell_type": "code",
   "execution_count": 13,
   "metadata": {},
   "outputs": [],
   "source": [
    "## Create dataframe and fill values from arrays\n",
    "\n",
    "df = pd.DataFrame({\n",
    "    'hicp': [hicp[i][j] for i in your_while_generator(hicp) for j in range(0,4)],\n",
    "    'real_gdp': [real_gdp[i][j] for i in your_while_generator(real_gdp) for j in range(0,4)],\n",
    "    'year': ['2019']*4+[years[i] for i in your_while_generator(years) for j in range(0,16)],\n",
    "    'month_year': [empty_months[i] for i in range(len(empty_months))],\n",
    "    'forecast_year': [empty_y[i] for i in range(len(empty_y))],\n",
    "})"
   ]
  },
  {
   "cell_type": "code",
   "execution_count": 14,
   "metadata": {},
   "outputs": [],
   "source": [
    "## Convert to int/float otherwise y-axis scale is unordered in plots\n",
    "## All columns were objects - now they are int\n",
    "\n",
    "df['real_gdp'] = pd.to_numeric(df.real_gdp)\n",
    "df['hicp'] = pd.to_numeric(df.hicp)\n",
    "df['year'] = pd.to_numeric(df.year)\n",
    "df['forecast_year'] = pd.to_numeric(df.forecast_year)"
   ]
  },
  {
   "cell_type": "code",
   "execution_count": 15,
   "metadata": {},
   "outputs": [],
   "source": [
    "## Actual GDP Growth (annual %) and HICP of Euro Area (19 countries) from years 2013 - 2018\n",
    "## Source (real GDP): https://ec.europa.eu/eurostat/tgm/refreshTableAction.do?tab=table&plugin=1&pcode=tec00115&language=en\n",
    "## Source (hicp): https://ec.europa.eu/eurostat/tgm/table.do?tab=table&init=1&language=en&pcode=tec00118&plugin=1\n",
    "\n",
    "actual_real_gdp = [-0.2,1.4,2.1,2.0,2.4,1.9]\n",
    "actual_hicp = [1.3,0.4,0.2,0.2,1.5,1.8]\n",
    "actual_year = [2013,2014,2015,2016,2017,2018]"
   ]
  },
  {
   "cell_type": "code",
   "execution_count": 16,
   "metadata": {
    "scrolled": false
   },
   "outputs": [
    {
     "data": {
      "text/html": [
       "<div>\n",
       "<style scoped>\n",
       "    .dataframe tbody tr th:only-of-type {\n",
       "        vertical-align: middle;\n",
       "    }\n",
       "\n",
       "    .dataframe tbody tr th {\n",
       "        vertical-align: top;\n",
       "    }\n",
       "\n",
       "    .dataframe thead th {\n",
       "        text-align: right;\n",
       "    }\n",
       "</style>\n",
       "<table border=\"1\" class=\"dataframe\">\n",
       "  <thead>\n",
       "    <tr style=\"text-align: right;\">\n",
       "      <th></th>\n",
       "      <th>hicp</th>\n",
       "      <th>real_gdp</th>\n",
       "      <th>year</th>\n",
       "      <th>month_year</th>\n",
       "      <th>forecast_year</th>\n",
       "    </tr>\n",
       "  </thead>\n",
       "  <tbody>\n",
       "    <tr>\n",
       "      <th>0</th>\n",
       "      <td>1.7</td>\n",
       "      <td>1.9</td>\n",
       "      <td>2019</td>\n",
       "      <td>Mar</td>\n",
       "      <td>2018</td>\n",
       "    </tr>\n",
       "    <tr>\n",
       "      <th>1</th>\n",
       "      <td>1.2</td>\n",
       "      <td>1.1</td>\n",
       "      <td>2019</td>\n",
       "      <td>Mar</td>\n",
       "      <td>2019</td>\n",
       "    </tr>\n",
       "    <tr>\n",
       "      <th>2</th>\n",
       "      <td>1.5</td>\n",
       "      <td>1.6</td>\n",
       "      <td>2019</td>\n",
       "      <td>Mar</td>\n",
       "      <td>2020</td>\n",
       "    </tr>\n",
       "    <tr>\n",
       "      <th>3</th>\n",
       "      <td>1.6</td>\n",
       "      <td>1.5</td>\n",
       "      <td>2019</td>\n",
       "      <td>Mar</td>\n",
       "      <td>2021</td>\n",
       "    </tr>\n",
       "    <tr>\n",
       "      <th>4</th>\n",
       "      <td>1.8</td>\n",
       "      <td>1.9</td>\n",
       "      <td>2018</td>\n",
       "      <td>Dec</td>\n",
       "      <td>2018</td>\n",
       "    </tr>\n",
       "  </tbody>\n",
       "</table>\n",
       "</div>"
      ],
      "text/plain": [
       "   hicp  real_gdp  year month_year  forecast_year\n",
       "0   1.7       1.9  2019        Mar           2018\n",
       "1   1.2       1.1  2019        Mar           2019\n",
       "2   1.5       1.6  2019        Mar           2020\n",
       "3   1.6       1.5  2019        Mar           2021\n",
       "4   1.8       1.9  2018        Dec           2018"
      ]
     },
     "execution_count": 16,
     "metadata": {},
     "output_type": "execute_result"
    }
   ],
   "source": [
    "df.head()"
   ]
  },
  {
   "cell_type": "code",
   "execution_count": 19,
   "metadata": {
    "scrolled": true
   },
   "outputs": [],
   "source": [
    "## Print full dataframe\n",
    "\n",
    "# with pd.option_context('display.max_rows', None, 'display.max_columns', None):  \n",
    "#     print(df)"
   ]
  },
  {
   "cell_type": "markdown",
   "metadata": {},
   "source": [
    "## Plotting"
   ]
  },
  {
   "cell_type": "code",
   "execution_count": null,
   "metadata": {},
   "outputs": [],
   "source": [
    "fig, axs = plt.subplots(2,4, figsize=(30, 18), sharey='row', sharex='row')\n",
    "ax = axs.flatten()\n",
    "\n",
    "year = ['19','18','17','16','15','14']\n",
    "year_18 = ['18','17','16','15','14']\n",
    "month = ['Mar','Jun','Sep','Dec']\n",
    "colours = ['#fddfdf','#fccfcf','#fbb0b0','#f99191','#f88181','#de5858','#ac4444','#662828']\n",
    "arr = np.array(colours)\n",
    "reversed_arr = arr[::-1]  \n",
    "line_wid=3\n",
    "\n",
    "## 2019 Data\n",
    "ax[0].plot(df.forecast_year[0:4], df.real_gdp[0:4],linestyle='--', c='#7b88ff', linewidth=line_wid,label=f'{month[0]}-{year[0]}')\n",
    "ax[4].plot(df.forecast_year[0:4], df.hicp[0:4],linestyle='--', c='#7b88ff', linewidth=line_wid,label=f'{month[0]}-{year[0]}')\n",
    "\n",
    "i=16\n",
    "m=4\n",
    "n=8\n",
    "k=12\n",
    "j=0\n",
    "while i<len(df):\n",
    "    ax[0].plot(df.forecast_year[i:i+4], df.real_gdp[i:i+4], linestyle='--', c=reversed_arr[j], linewidth=line_wid, label=f'{month[0]}-{year[j]}')\n",
    "    ax[1].plot(df.forecast_year[n:n+4], df.real_gdp[n:n+4], linestyle='--', c=reversed_arr[j], linewidth=line_wid, label=f'{month[1]}-{year_18[j]}')        \n",
    "    ax[2].plot(df.forecast_year[k:k+4], df.real_gdp[k:k+4], linestyle='--', c=reversed_arr[j], linewidth=line_wid, label=f'{month[2]}-{year_18[j]}')            \n",
    "    ax[3].plot(df.forecast_year[m:m+4], df.real_gdp[m:m+4], linestyle='--', c=reversed_arr[j], linewidth=line_wid, label=f'{month[-1]}-{year_18[j]}')    \n",
    "    ax[4].plot(df.forecast_year[i:i+4], df.hicp[i:i+4], linestyle='--', c=reversed_arr[j], linewidth=line_wid, label=f'{month[0]}-{year[j]}')\n",
    "    ax[5].plot(df.forecast_year[n:n+4], df.hicp[n:n+4], linestyle='--', c=reversed_arr[j], linewidth=line_wid, label=f'{month[1]}-{year_18[j]}')        \n",
    "    ax[6].plot(df.forecast_year[k:k+4], df.hicp[k:k+4], linestyle='--', c=reversed_arr[j], linewidth=line_wid, label=f'{month[2]}-{year_18[j]}')            \n",
    "    ax[7].plot(df.forecast_year[m:m+4], df.hicp[m:m+4], linestyle='--', c=reversed_arr[j], linewidth=line_wid, label=f'{month[-1]}-{year_18[j]}')        \n",
    "    i+=16\n",
    "    n+=16\n",
    "    k+=16\n",
    "    m+=16\n",
    "    j+=1  \n",
    "\n",
    "## Actual Euro Area Real GDP\n",
    "for i in range(0,4):\n",
    "    ax[i].plot(actual_year, actual_real_gdp,linewidth=4, c='black',label='Actual (growth)') \n",
    "    \n",
    "for i in range(4,8):\n",
    "    ax[i].plot(actual_year, actual_hicp,linewidth=4, c='black',label='Actual (growth)') \n",
    "    \n",
    "\n",
    "for a in ax[:]:        \n",
    "    a.grid(linestyle='dashed', alpha=0.4)\n",
    "    a.autoscale(enable=True, axis='x', tight=True)\n",
    "    leg=a.legend(loc='upper left', fontsize=19, framealpha=0, ncol=1,handlelength=0, mode='expand')\n",
    "    for line,text in zip(leg.get_lines(), leg.get_texts()):\n",
    "        text.set_color(line.get_color()) \n",
    "\n",
    "ax[0].set_ylabel('Real GDP Forecast')\n",
    "ax[4].set_ylabel('Inflation Forecast')\n",
    "        \n",
    "fig.text(0.39, 1.01, 'European Central Bank Growth Forecasts', fontsize=30)\n",
    "fig.text(0.48, -0.05, 'Forecasting Year', fontsize=30)\n",
    "        \n",
    "plt.tight_layout()\n",
    "plt.savefig(\"ECB_forecasts.png\", dpi=300, bbox_inches='tight', transparent=True)\n",
    "plt.savefig(\"ECB_forecasts.pdf\", bbox_inches='tight', transparent=True)\n"
   ]
  }
 ],
 "metadata": {
  "kernelspec": {
   "display_name": "Python 3",
   "language": "python",
   "name": "python3"
  },
  "language_info": {
   "codemirror_mode": {
    "name": "ipython",
    "version": 3
   },
   "file_extension": ".py",
   "mimetype": "text/x-python",
   "name": "python",
   "nbconvert_exporter": "python",
   "pygments_lexer": "ipython3",
   "version": "3.7.1"
  }
 },
 "nbformat": 4,
 "nbformat_minor": 2
}
